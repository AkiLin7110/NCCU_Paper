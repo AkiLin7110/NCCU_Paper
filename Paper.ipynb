{
 "cells": [
  {
   "cell_type": "code",
   "execution_count": 330,
   "metadata": {},
   "outputs": [],
   "source": [
    "import pandas as pd\n",
    "import re\n",
    "from tqdm.auto import tqdm\n",
    "import yfinance as yf\n",
    "import swifter\n",
    "import numpy as np\n",
    "from collections import OrderedDict\n",
    "\n",
    "#載入PCA套件\n",
    "from sklearn.decomposition import PCA\n",
    "import matplotlib.pyplot as plt\n",
    "import seaborn as sns\n",
    "\n",
    "from matplotlib import rcParams\n",
    "import matplotlib.colors as colors\n",
    "plt.rcParams['font.sans-serif'] = ['SimHei'] # 修改中文字體\n",
    "plt.rcParams['axes.unicode_minus'] = False # 顯示負號\n",
    "\n",
    "\n",
    "# 顯示中文\n"
   ]
  },
  {
   "cell_type": "code",
   "execution_count": 44,
   "metadata": {},
   "outputs": [],
   "source": [
    "tmp = pd.read_excel('Data/codes.xlsx', header = 1)\n",
    "del tmp['#']\n",
    "db = dict()\n",
    "for i in range(0,len(tmp)):\n",
    "    if tmp['英文代碼'][i] not in db.keys():\n",
    "        db[tmp['英文代碼'][i]] = []\n",
    "    db[tmp['英文代碼'][i]] =tmp['中文簡稱'][i]\n"
   ]
  },
  {
   "cell_type": "code",
   "execution_count": 46,
   "metadata": {},
   "outputs": [
    {
     "name": "stdout",
     "output_type": "stream",
     "text": [
      "2018\n",
      "2019\n",
      "2020\n",
      "2021\n",
      "2022\n"
     ]
    }
   ],
   "source": [
    "df = pd.DataFrame()\n",
    "for i in range(2011, 2023):\n",
    "    try:\n",
    "        df_ = pd.read_csv('Data/'+str(i)+'_fut.csv', encoding = 'cp950', index_col = 0, low_memory=False)[['契約', '到期月份(週別)', '開盤價', '最高價', '最低價', '收盤價', '漲跌價', '漲跌%', '成交量','結算價', '未沖銷契約數', '最後最佳買價', '最後最佳賣價', '歷史最高價', '歷史最低價']]\n",
    "    except:\n",
    "        print(i)\n",
    "        df_ = pd.read_csv('Data/'+str(i)+'_fut.csv', low_memory=False , index_col = 0)\n",
    "    df = pd.concat([df,df_])"
   ]
  },
  {
   "cell_type": "code",
   "execution_count": 47,
   "metadata": {},
   "outputs": [],
   "source": [
    "df['中文名稱'] = df['契約'].apply(lambda x: db[x])\n",
    "df['Type'] = df['中文名稱'].apply(lambda x: 0 if x in ['非金電期貨', '臺股期貨', '臺幣黃金期貨', '金融期貨', '電子期貨', '臺灣50期貨', '小型臺指期貨', '櫃買期貨', '黃金期貨', '十年期公債期貨', '三十天期利率期貨', '摩臺期'] else 1)\n",
    "df['Type_'] = df['到期月份(週別)'].apply(lambda x: 0 if '/' in str(x) else 1)\n",
    "df = df[(df['Type'] == 1) & (df['Type_'] == 1) & (df.index != '\u001a')] \n",
    "df.index = pd.to_datetime(df.index) "
   ]
  },
  {
   "cell_type": "code",
   "execution_count": 48,
   "metadata": {},
   "outputs": [],
   "source": [
    "filter1 = re.compile(r'(.*?)[期]')\n",
    "re.findall(filter1, '中信金期貨')\n",
    "df['中文名稱'] = df['中文名稱'].apply(lambda x: re.findall(filter1, x)[0])\n",
    "df['交易日期'] = df.index"
   ]
  },
  {
   "cell_type": "code",
   "execution_count": 6,
   "metadata": {},
   "outputs": [],
   "source": [
    "TEJ = pd.read_excel('Data/TEJ_20231126.xlsx')"
   ]
  },
  {
   "cell_type": "code",
   "execution_count": 7,
   "metadata": {},
   "outputs": [],
   "source": [
    "filter2 = re.compile(r'(.*?)[證]')\n",
    "TEJ['名稱'] = TEJ['名稱'].apply(lambda x: re.findall(filter2, x)[0] if x[-2:] == '證券' else x)\n",
    "TEJ['財報發布日'] = pd.to_datetime(TEJ['財報發布日']) "
   ]
  },
  {
   "cell_type": "code",
   "execution_count": 8,
   "metadata": {},
   "outputs": [],
   "source": [
    "def find_closest_date(target_date, dates):\n",
    "    try:\n",
    "        tmp = dates.iloc[(dates - target_date).abs().argsort()[:1]].values[0]\n",
    "    except:\n",
    "        tmp = 'None'\n",
    "    return tmp"
   ]
  },
  {
   "cell_type": "code",
   "execution_count": 9,
   "metadata": {},
   "outputs": [
    {
     "name": "stderr",
     "output_type": "stream",
     "text": [
      "/home/akilin/anaconda3/envs/gamma/lib/python3.7/site-packages/swifter/swifter.py:88: UserWarning: This pandas object has duplicate indices, and swifter may not be able to improve performance. Consider resetting the indices with `df.reset_index(drop=True)`.\n",
      "  \"This pandas object has duplicate indices, \"\n",
      "Pandas Apply: 100%|██████████| 3356904/3356904 [3:04:47<00:00, 302.75it/s]  \n"
     ]
    }
   ],
   "source": [
    "# df['財報發布日']  = df.apply(lambda x: find_closest_date(x['交易日期'],TEJ['財報發布日'][TEJ['名稱'] == x['中文名稱']]), axis = 1)\n",
    "\n",
    "\n",
    "df['財報發布日']  = df.swifter.apply(lambda x: find_closest_date(x['交易日期'],TEJ['財報發布日'][TEJ['名稱'] == x['中文名稱']]), axis = 1)"
   ]
  },
  {
   "cell_type": "code",
   "execution_count": 10,
   "metadata": {},
   "outputs": [],
   "source": [
    "df.to_csv('df_merge.csv', index =False)"
   ]
  },
  {
   "cell_type": "code",
   "execution_count": 11,
   "metadata": {},
   "outputs": [],
   "source": [
    "\n",
    "# tmps = []\n",
    "# error_tmps = []\n",
    "# pbar = tqdm(df.iterrows(), total = (len(df)))\n",
    "# for index, row in pbar:\n",
    "#     try:\n",
    "#         tmp = find_closest_date(row['交易日期'], TEJ['財報發布日'][TEJ['名稱'] == row['中文名稱']])\n",
    "#         tmps.append(tmp)\n",
    "#     except:\n",
    "#         error_tmps.append(row['中文名稱'])"
   ]
  },
  {
   "cell_type": "code",
   "execution_count": 12,
   "metadata": {},
   "outputs": [],
   "source": [
    "df['財報發布日'] = df['財報發布日'].apply(lambda x: np.nan if x == 'None' else x)\n",
    "df['財報發布日'] = pd.to_datetime(df['財報發布日'])"
   ]
  },
  {
   "attachments": {},
   "cell_type": "markdown",
   "metadata": {},
   "source": [
    "# 直接從這裏跑"
   ]
  },
  {
   "cell_type": "code",
   "execution_count": 2,
   "metadata": {},
   "outputs": [
    {
     "ename": "KeyboardInterrupt",
     "evalue": "",
     "output_type": "error",
     "traceback": [
      "\u001b[0;31m---------------------------------------------------------------------------\u001b[0m",
      "\u001b[0;31mKeyboardInterrupt\u001b[0m                         Traceback (most recent call last)",
      "\u001b[0;32m/tmp/ipykernel_85001/4285662673.py\u001b[0m in \u001b[0;36m<module>\u001b[0;34m\u001b[0m\n\u001b[0;32m----> 1\u001b[0;31m \u001b[0mTEJ\u001b[0m \u001b[0;34m=\u001b[0m \u001b[0mpd\u001b[0m\u001b[0;34m.\u001b[0m\u001b[0mread_excel\u001b[0m\u001b[0;34m(\u001b[0m\u001b[0;34m'Data/TEJ_20231126.xlsx'\u001b[0m\u001b[0;34m)\u001b[0m\u001b[0;34m\u001b[0m\u001b[0;34m\u001b[0m\u001b[0m\n\u001b[0m\u001b[1;32m      2\u001b[0m \u001b[0mfilter2\u001b[0m \u001b[0;34m=\u001b[0m \u001b[0mre\u001b[0m\u001b[0;34m.\u001b[0m\u001b[0mcompile\u001b[0m\u001b[0;34m(\u001b[0m\u001b[0;34mr'(.*?)[證]'\u001b[0m\u001b[0;34m)\u001b[0m\u001b[0;34m\u001b[0m\u001b[0;34m\u001b[0m\u001b[0m\n\u001b[1;32m      3\u001b[0m \u001b[0mTEJ\u001b[0m\u001b[0;34m[\u001b[0m\u001b[0;34m'名稱'\u001b[0m\u001b[0;34m]\u001b[0m \u001b[0;34m=\u001b[0m \u001b[0mTEJ\u001b[0m\u001b[0;34m[\u001b[0m\u001b[0;34m'名稱'\u001b[0m\u001b[0;34m]\u001b[0m\u001b[0;34m.\u001b[0m\u001b[0mapply\u001b[0m\u001b[0;34m(\u001b[0m\u001b[0;32mlambda\u001b[0m \u001b[0mx\u001b[0m\u001b[0;34m:\u001b[0m \u001b[0mre\u001b[0m\u001b[0;34m.\u001b[0m\u001b[0mfindall\u001b[0m\u001b[0;34m(\u001b[0m\u001b[0mfilter2\u001b[0m\u001b[0;34m,\u001b[0m \u001b[0mx\u001b[0m\u001b[0;34m)\u001b[0m\u001b[0;34m[\u001b[0m\u001b[0;36m0\u001b[0m\u001b[0;34m]\u001b[0m \u001b[0;32mif\u001b[0m \u001b[0mx\u001b[0m\u001b[0;34m[\u001b[0m\u001b[0;34m-\u001b[0m\u001b[0;36m2\u001b[0m\u001b[0;34m:\u001b[0m\u001b[0;34m]\u001b[0m \u001b[0;34m==\u001b[0m \u001b[0;34m'證券'\u001b[0m \u001b[0;32melse\u001b[0m \u001b[0mx\u001b[0m\u001b[0;34m)\u001b[0m\u001b[0;34m\u001b[0m\u001b[0;34m\u001b[0m\u001b[0m\n\u001b[1;32m      4\u001b[0m \u001b[0mTEJ\u001b[0m\u001b[0;34m[\u001b[0m\u001b[0;34m'財報發布日'\u001b[0m\u001b[0;34m]\u001b[0m \u001b[0;34m=\u001b[0m \u001b[0mpd\u001b[0m\u001b[0;34m.\u001b[0m\u001b[0mto_datetime\u001b[0m\u001b[0;34m(\u001b[0m\u001b[0mTEJ\u001b[0m\u001b[0;34m[\u001b[0m\u001b[0;34m'財報發布日'\u001b[0m\u001b[0;34m]\u001b[0m\u001b[0;34m)\u001b[0m\u001b[0;34m\u001b[0m\u001b[0;34m\u001b[0m\u001b[0m\n",
      "\u001b[0;32m~/anaconda3/envs/gamma/lib/python3.7/site-packages/pandas/util/_decorators.py\u001b[0m in \u001b[0;36mwrapper\u001b[0;34m(*args, **kwargs)\u001b[0m\n\u001b[1;32m    309\u001b[0m                     \u001b[0mstacklevel\u001b[0m\u001b[0;34m=\u001b[0m\u001b[0mstacklevel\u001b[0m\u001b[0;34m,\u001b[0m\u001b[0;34m\u001b[0m\u001b[0;34m\u001b[0m\u001b[0m\n\u001b[1;32m    310\u001b[0m                 )\n\u001b[0;32m--> 311\u001b[0;31m             \u001b[0;32mreturn\u001b[0m \u001b[0mfunc\u001b[0m\u001b[0;34m(\u001b[0m\u001b[0;34m*\u001b[0m\u001b[0margs\u001b[0m\u001b[0;34m,\u001b[0m \u001b[0;34m**\u001b[0m\u001b[0mkwargs\u001b[0m\u001b[0;34m)\u001b[0m\u001b[0;34m\u001b[0m\u001b[0;34m\u001b[0m\u001b[0m\n\u001b[0m\u001b[1;32m    312\u001b[0m \u001b[0;34m\u001b[0m\u001b[0m\n\u001b[1;32m    313\u001b[0m         \u001b[0;32mreturn\u001b[0m \u001b[0mwrapper\u001b[0m\u001b[0;34m\u001b[0m\u001b[0;34m\u001b[0m\u001b[0m\n",
      "\u001b[0;32m~/anaconda3/envs/gamma/lib/python3.7/site-packages/pandas/io/excel/_base.py\u001b[0m in \u001b[0;36mread_excel\u001b[0;34m(io, sheet_name, header, names, index_col, usecols, squeeze, dtype, engine, converters, true_values, false_values, skiprows, nrows, na_values, keep_default_na, na_filter, verbose, parse_dates, date_parser, thousands, comment, skipfooter, convert_float, mangle_dupe_cols, storage_options)\u001b[0m\n\u001b[1;32m    393\u001b[0m             \u001b[0mskipfooter\u001b[0m\u001b[0;34m=\u001b[0m\u001b[0mskipfooter\u001b[0m\u001b[0;34m,\u001b[0m\u001b[0;34m\u001b[0m\u001b[0;34m\u001b[0m\u001b[0m\n\u001b[1;32m    394\u001b[0m             \u001b[0mconvert_float\u001b[0m\u001b[0;34m=\u001b[0m\u001b[0mconvert_float\u001b[0m\u001b[0;34m,\u001b[0m\u001b[0;34m\u001b[0m\u001b[0;34m\u001b[0m\u001b[0m\n\u001b[0;32m--> 395\u001b[0;31m             \u001b[0mmangle_dupe_cols\u001b[0m\u001b[0;34m=\u001b[0m\u001b[0mmangle_dupe_cols\u001b[0m\u001b[0;34m,\u001b[0m\u001b[0;34m\u001b[0m\u001b[0;34m\u001b[0m\u001b[0m\n\u001b[0m\u001b[1;32m    396\u001b[0m         )\n\u001b[1;32m    397\u001b[0m     \u001b[0;32mfinally\u001b[0m\u001b[0;34m:\u001b[0m\u001b[0;34m\u001b[0m\u001b[0;34m\u001b[0m\u001b[0m\n",
      "\u001b[0;32m~/anaconda3/envs/gamma/lib/python3.7/site-packages/pandas/io/excel/_base.py\u001b[0m in \u001b[0;36mparse\u001b[0;34m(self, sheet_name, header, names, index_col, usecols, squeeze, converters, true_values, false_values, skiprows, nrows, na_values, parse_dates, date_parser, thousands, comment, skipfooter, convert_float, mangle_dupe_cols, **kwds)\u001b[0m\n\u001b[1;32m   1290\u001b[0m             \u001b[0mconvert_float\u001b[0m\u001b[0;34m=\u001b[0m\u001b[0mconvert_float\u001b[0m\u001b[0;34m,\u001b[0m\u001b[0;34m\u001b[0m\u001b[0;34m\u001b[0m\u001b[0m\n\u001b[1;32m   1291\u001b[0m             \u001b[0mmangle_dupe_cols\u001b[0m\u001b[0;34m=\u001b[0m\u001b[0mmangle_dupe_cols\u001b[0m\u001b[0;34m,\u001b[0m\u001b[0;34m\u001b[0m\u001b[0;34m\u001b[0m\u001b[0m\n\u001b[0;32m-> 1292\u001b[0;31m             \u001b[0;34m**\u001b[0m\u001b[0mkwds\u001b[0m\u001b[0;34m,\u001b[0m\u001b[0;34m\u001b[0m\u001b[0;34m\u001b[0m\u001b[0m\n\u001b[0m\u001b[1;32m   1293\u001b[0m         )\n\u001b[1;32m   1294\u001b[0m \u001b[0;34m\u001b[0m\u001b[0m\n",
      "\u001b[0;32m~/anaconda3/envs/gamma/lib/python3.7/site-packages/pandas/io/excel/_base.py\u001b[0m in \u001b[0;36mparse\u001b[0;34m(self, sheet_name, header, names, index_col, usecols, squeeze, dtype, true_values, false_values, skiprows, nrows, na_values, verbose, parse_dates, date_parser, thousands, comment, skipfooter, convert_float, mangle_dupe_cols, **kwds)\u001b[0m\n\u001b[1;32m    537\u001b[0m                 \u001b[0msheet\u001b[0m \u001b[0;34m=\u001b[0m \u001b[0mself\u001b[0m\u001b[0;34m.\u001b[0m\u001b[0mget_sheet_by_index\u001b[0m\u001b[0;34m(\u001b[0m\u001b[0masheetname\u001b[0m\u001b[0;34m)\u001b[0m\u001b[0;34m\u001b[0m\u001b[0;34m\u001b[0m\u001b[0m\n\u001b[1;32m    538\u001b[0m \u001b[0;34m\u001b[0m\u001b[0m\n\u001b[0;32m--> 539\u001b[0;31m             \u001b[0mdata\u001b[0m \u001b[0;34m=\u001b[0m \u001b[0mself\u001b[0m\u001b[0;34m.\u001b[0m\u001b[0mget_sheet_data\u001b[0m\u001b[0;34m(\u001b[0m\u001b[0msheet\u001b[0m\u001b[0;34m,\u001b[0m \u001b[0mconvert_float\u001b[0m\u001b[0;34m)\u001b[0m\u001b[0;34m\u001b[0m\u001b[0;34m\u001b[0m\u001b[0m\n\u001b[0m\u001b[1;32m    540\u001b[0m             \u001b[0;32mif\u001b[0m \u001b[0mhasattr\u001b[0m\u001b[0;34m(\u001b[0m\u001b[0msheet\u001b[0m\u001b[0;34m,\u001b[0m \u001b[0;34m\"close\"\u001b[0m\u001b[0;34m)\u001b[0m\u001b[0;34m:\u001b[0m\u001b[0;34m\u001b[0m\u001b[0;34m\u001b[0m\u001b[0m\n\u001b[1;32m    541\u001b[0m                 \u001b[0;31m# pyxlsb opens two TemporaryFiles\u001b[0m\u001b[0;34m\u001b[0m\u001b[0;34m\u001b[0m\u001b[0;34m\u001b[0m\u001b[0m\n",
      "\u001b[0;32m~/anaconda3/envs/gamma/lib/python3.7/site-packages/pandas/io/excel/_openpyxl.py\u001b[0m in \u001b[0;36mget_sheet_data\u001b[0;34m(self, sheet, convert_float)\u001b[0m\n\u001b[1;32m    570\u001b[0m         \u001b[0mdata\u001b[0m\u001b[0;34m:\u001b[0m \u001b[0mlist\u001b[0m\u001b[0;34m[\u001b[0m\u001b[0mlist\u001b[0m\u001b[0;34m[\u001b[0m\u001b[0mScalar\u001b[0m\u001b[0;34m]\u001b[0m\u001b[0;34m]\u001b[0m \u001b[0;34m=\u001b[0m \u001b[0;34m[\u001b[0m\u001b[0;34m]\u001b[0m\u001b[0;34m\u001b[0m\u001b[0;34m\u001b[0m\u001b[0m\n\u001b[1;32m    571\u001b[0m         \u001b[0mlast_row_with_data\u001b[0m \u001b[0;34m=\u001b[0m \u001b[0;34m-\u001b[0m\u001b[0;36m1\u001b[0m\u001b[0;34m\u001b[0m\u001b[0;34m\u001b[0m\u001b[0m\n\u001b[0;32m--> 572\u001b[0;31m         \u001b[0;32mfor\u001b[0m \u001b[0mrow_number\u001b[0m\u001b[0;34m,\u001b[0m \u001b[0mrow\u001b[0m \u001b[0;32min\u001b[0m \u001b[0menumerate\u001b[0m\u001b[0;34m(\u001b[0m\u001b[0msheet\u001b[0m\u001b[0;34m.\u001b[0m\u001b[0mrows\u001b[0m\u001b[0;34m)\u001b[0m\u001b[0;34m:\u001b[0m\u001b[0;34m\u001b[0m\u001b[0;34m\u001b[0m\u001b[0m\n\u001b[0m\u001b[1;32m    573\u001b[0m             \u001b[0mconverted_row\u001b[0m \u001b[0;34m=\u001b[0m \u001b[0;34m[\u001b[0m\u001b[0mself\u001b[0m\u001b[0;34m.\u001b[0m\u001b[0m_convert_cell\u001b[0m\u001b[0;34m(\u001b[0m\u001b[0mcell\u001b[0m\u001b[0;34m,\u001b[0m \u001b[0mconvert_float\u001b[0m\u001b[0;34m)\u001b[0m \u001b[0;32mfor\u001b[0m \u001b[0mcell\u001b[0m \u001b[0;32min\u001b[0m \u001b[0mrow\u001b[0m\u001b[0;34m]\u001b[0m\u001b[0;34m\u001b[0m\u001b[0;34m\u001b[0m\u001b[0m\n\u001b[1;32m    574\u001b[0m             \u001b[0;32mwhile\u001b[0m \u001b[0mconverted_row\u001b[0m \u001b[0;32mand\u001b[0m \u001b[0mconverted_row\u001b[0m\u001b[0;34m[\u001b[0m\u001b[0;34m-\u001b[0m\u001b[0;36m1\u001b[0m\u001b[0;34m]\u001b[0m \u001b[0;34m==\u001b[0m \u001b[0;34m\"\"\u001b[0m\u001b[0;34m:\u001b[0m\u001b[0;34m\u001b[0m\u001b[0;34m\u001b[0m\u001b[0m\n",
      "\u001b[0;32m~/anaconda3/envs/gamma/lib/python3.7/site-packages/openpyxl/worksheet/_read_only.py\u001b[0m in \u001b[0;36m_cells_by_row\u001b[0;34m(self, min_col, min_row, max_col, max_row, values_only)\u001b[0m\n\u001b[1;32m     77\u001b[0m                                  \u001b[0mdata_only\u001b[0m\u001b[0;34m=\u001b[0m\u001b[0mself\u001b[0m\u001b[0;34m.\u001b[0m\u001b[0mparent\u001b[0m\u001b[0;34m.\u001b[0m\u001b[0mdata_only\u001b[0m\u001b[0;34m,\u001b[0m \u001b[0mepoch\u001b[0m\u001b[0;34m=\u001b[0m\u001b[0mself\u001b[0m\u001b[0;34m.\u001b[0m\u001b[0mparent\u001b[0m\u001b[0;34m.\u001b[0m\u001b[0mepoch\u001b[0m\u001b[0;34m,\u001b[0m\u001b[0;34m\u001b[0m\u001b[0;34m\u001b[0m\u001b[0m\n\u001b[1;32m     78\u001b[0m                                  date_formats=self.parent._date_formats)\n\u001b[0;32m---> 79\u001b[0;31m         \u001b[0;32mfor\u001b[0m \u001b[0midx\u001b[0m\u001b[0;34m,\u001b[0m \u001b[0mrow\u001b[0m \u001b[0;32min\u001b[0m \u001b[0mparser\u001b[0m\u001b[0;34m.\u001b[0m\u001b[0mparse\u001b[0m\u001b[0;34m(\u001b[0m\u001b[0;34m)\u001b[0m\u001b[0;34m:\u001b[0m\u001b[0;34m\u001b[0m\u001b[0;34m\u001b[0m\u001b[0m\n\u001b[0m\u001b[1;32m     80\u001b[0m             \u001b[0;32mif\u001b[0m \u001b[0mmax_row\u001b[0m \u001b[0;32mis\u001b[0m \u001b[0;32mnot\u001b[0m \u001b[0;32mNone\u001b[0m \u001b[0;32mand\u001b[0m \u001b[0midx\u001b[0m \u001b[0;34m>\u001b[0m \u001b[0mmax_row\u001b[0m\u001b[0;34m:\u001b[0m\u001b[0;34m\u001b[0m\u001b[0;34m\u001b[0m\u001b[0m\n\u001b[1;32m     81\u001b[0m                 \u001b[0;32mbreak\u001b[0m\u001b[0;34m\u001b[0m\u001b[0;34m\u001b[0m\u001b[0m\n",
      "\u001b[0;32m~/anaconda3/envs/gamma/lib/python3.7/site-packages/openpyxl/worksheet/_reader.py\u001b[0m in \u001b[0;36mparse\u001b[0;34m(self)\u001b[0m\n\u001b[1;32m    142\u001b[0m         \u001b[0mit\u001b[0m \u001b[0;34m=\u001b[0m \u001b[0miterparse\u001b[0m\u001b[0;34m(\u001b[0m\u001b[0mself\u001b[0m\u001b[0;34m.\u001b[0m\u001b[0msource\u001b[0m\u001b[0;34m)\u001b[0m \u001b[0;31m# add a finaliser to close the source when this becomes possible\u001b[0m\u001b[0;34m\u001b[0m\u001b[0;34m\u001b[0m\u001b[0m\n\u001b[1;32m    143\u001b[0m \u001b[0;34m\u001b[0m\u001b[0m\n\u001b[0;32m--> 144\u001b[0;31m         \u001b[0;32mfor\u001b[0m \u001b[0m_\u001b[0m\u001b[0;34m,\u001b[0m \u001b[0melement\u001b[0m \u001b[0;32min\u001b[0m \u001b[0mit\u001b[0m\u001b[0;34m:\u001b[0m\u001b[0;34m\u001b[0m\u001b[0;34m\u001b[0m\u001b[0m\n\u001b[0m\u001b[1;32m    145\u001b[0m             \u001b[0mtag_name\u001b[0m \u001b[0;34m=\u001b[0m \u001b[0melement\u001b[0m\u001b[0;34m.\u001b[0m\u001b[0mtag\u001b[0m\u001b[0;34m\u001b[0m\u001b[0;34m\u001b[0m\u001b[0m\n\u001b[1;32m    146\u001b[0m             \u001b[0;32mif\u001b[0m \u001b[0mtag_name\u001b[0m \u001b[0;32min\u001b[0m \u001b[0mdispatcher\u001b[0m\u001b[0;34m:\u001b[0m\u001b[0;34m\u001b[0m\u001b[0;34m\u001b[0m\u001b[0m\n",
      "\u001b[0;32m~/anaconda3/envs/gamma/lib/python3.7/xml/etree/ElementTree.py\u001b[0m in \u001b[0;36miterator\u001b[0;34m()\u001b[0m\n\u001b[1;32m   1225\u001b[0m                 \u001b[0;32mif\u001b[0m \u001b[0;32mnot\u001b[0m \u001b[0mdata\u001b[0m\u001b[0;34m:\u001b[0m\u001b[0;34m\u001b[0m\u001b[0;34m\u001b[0m\u001b[0m\n\u001b[1;32m   1226\u001b[0m                     \u001b[0;32mbreak\u001b[0m\u001b[0;34m\u001b[0m\u001b[0;34m\u001b[0m\u001b[0m\n\u001b[0;32m-> 1227\u001b[0;31m                 \u001b[0mpullparser\u001b[0m\u001b[0;34m.\u001b[0m\u001b[0mfeed\u001b[0m\u001b[0;34m(\u001b[0m\u001b[0mdata\u001b[0m\u001b[0;34m)\u001b[0m\u001b[0;34m\u001b[0m\u001b[0;34m\u001b[0m\u001b[0m\n\u001b[0m\u001b[1;32m   1228\u001b[0m             \u001b[0mroot\u001b[0m \u001b[0;34m=\u001b[0m \u001b[0mpullparser\u001b[0m\u001b[0;34m.\u001b[0m\u001b[0m_close_and_return_root\u001b[0m\u001b[0;34m(\u001b[0m\u001b[0;34m)\u001b[0m\u001b[0;34m\u001b[0m\u001b[0;34m\u001b[0m\u001b[0m\n\u001b[1;32m   1229\u001b[0m             \u001b[0;32myield\u001b[0m \u001b[0;32mfrom\u001b[0m \u001b[0mpullparser\u001b[0m\u001b[0;34m.\u001b[0m\u001b[0mread_events\u001b[0m\u001b[0;34m(\u001b[0m\u001b[0;34m)\u001b[0m\u001b[0;34m\u001b[0m\u001b[0;34m\u001b[0m\u001b[0m\n",
      "\u001b[0;32m~/anaconda3/envs/gamma/lib/python3.7/xml/etree/ElementTree.py\u001b[0m in \u001b[0;36mfeed\u001b[0;34m(self, data)\u001b[0m\n\u001b[1;32m   1267\u001b[0m         \u001b[0;32mif\u001b[0m \u001b[0mdata\u001b[0m\u001b[0;34m:\u001b[0m\u001b[0;34m\u001b[0m\u001b[0;34m\u001b[0m\u001b[0m\n\u001b[1;32m   1268\u001b[0m             \u001b[0;32mtry\u001b[0m\u001b[0;34m:\u001b[0m\u001b[0;34m\u001b[0m\u001b[0;34m\u001b[0m\u001b[0m\n\u001b[0;32m-> 1269\u001b[0;31m                 \u001b[0mself\u001b[0m\u001b[0;34m.\u001b[0m\u001b[0m_parser\u001b[0m\u001b[0;34m.\u001b[0m\u001b[0mfeed\u001b[0m\u001b[0;34m(\u001b[0m\u001b[0mdata\u001b[0m\u001b[0;34m)\u001b[0m\u001b[0;34m\u001b[0m\u001b[0;34m\u001b[0m\u001b[0m\n\u001b[0m\u001b[1;32m   1270\u001b[0m             \u001b[0;32mexcept\u001b[0m \u001b[0mSyntaxError\u001b[0m \u001b[0;32mas\u001b[0m \u001b[0mexc\u001b[0m\u001b[0;34m:\u001b[0m\u001b[0;34m\u001b[0m\u001b[0;34m\u001b[0m\u001b[0m\n\u001b[1;32m   1271\u001b[0m                 \u001b[0mself\u001b[0m\u001b[0;34m.\u001b[0m\u001b[0m_events_queue\u001b[0m\u001b[0;34m.\u001b[0m\u001b[0mappend\u001b[0m\u001b[0;34m(\u001b[0m\u001b[0mexc\u001b[0m\u001b[0;34m)\u001b[0m\u001b[0;34m\u001b[0m\u001b[0;34m\u001b[0m\u001b[0m\n",
      "\u001b[0;32m~/anaconda3/envs/gamma/lib/python3.7/xml/etree/ElementTree.py\u001b[0m in \u001b[0;36mfeed\u001b[0;34m(self, data)\u001b[0m\n\u001b[1;32m   1628\u001b[0m         \u001b[0;34m\"\"\"Feed encoded data to parser.\"\"\"\u001b[0m\u001b[0;34m\u001b[0m\u001b[0;34m\u001b[0m\u001b[0m\n\u001b[1;32m   1629\u001b[0m         \u001b[0;32mtry\u001b[0m\u001b[0;34m:\u001b[0m\u001b[0;34m\u001b[0m\u001b[0;34m\u001b[0m\u001b[0m\n\u001b[0;32m-> 1630\u001b[0;31m             \u001b[0mself\u001b[0m\u001b[0;34m.\u001b[0m\u001b[0mparser\u001b[0m\u001b[0;34m.\u001b[0m\u001b[0mParse\u001b[0m\u001b[0;34m(\u001b[0m\u001b[0mdata\u001b[0m\u001b[0;34m,\u001b[0m \u001b[0;36m0\u001b[0m\u001b[0;34m)\u001b[0m\u001b[0;34m\u001b[0m\u001b[0;34m\u001b[0m\u001b[0m\n\u001b[0m\u001b[1;32m   1631\u001b[0m         \u001b[0;32mexcept\u001b[0m \u001b[0mself\u001b[0m\u001b[0;34m.\u001b[0m\u001b[0m_error\u001b[0m \u001b[0;32mas\u001b[0m \u001b[0mv\u001b[0m\u001b[0;34m:\u001b[0m\u001b[0;34m\u001b[0m\u001b[0;34m\u001b[0m\u001b[0m\n\u001b[1;32m   1632\u001b[0m             \u001b[0mself\u001b[0m\u001b[0;34m.\u001b[0m\u001b[0m_raiseerror\u001b[0m\u001b[0;34m(\u001b[0m\u001b[0mv\u001b[0m\u001b[0;34m)\u001b[0m\u001b[0;34m\u001b[0m\u001b[0;34m\u001b[0m\u001b[0m\n",
      "\u001b[0;32m/tmp/build/80754af9/python_1669321496543/work/Modules/pyexpat.c\u001b[0m in \u001b[0;36mStartElement\u001b[0;34m()\u001b[0m\n",
      "\u001b[0;32m~/anaconda3/envs/gamma/lib/python3.7/xml/etree/ElementTree.py\u001b[0m in \u001b[0;36m_start\u001b[0;34m(self, tag, attr_list)\u001b[0m\n\u001b[1;32m   1552\u001b[0m             \u001b[0;32mfor\u001b[0m \u001b[0mi\u001b[0m \u001b[0;32min\u001b[0m \u001b[0mrange\u001b[0m\u001b[0;34m(\u001b[0m\u001b[0;36m0\u001b[0m\u001b[0;34m,\u001b[0m \u001b[0mlen\u001b[0m\u001b[0;34m(\u001b[0m\u001b[0mattr_list\u001b[0m\u001b[0;34m)\u001b[0m\u001b[0;34m,\u001b[0m \u001b[0;36m2\u001b[0m\u001b[0;34m)\u001b[0m\u001b[0;34m:\u001b[0m\u001b[0;34m\u001b[0m\u001b[0;34m\u001b[0m\u001b[0m\n\u001b[1;32m   1553\u001b[0m                 \u001b[0mattrib\u001b[0m\u001b[0;34m[\u001b[0m\u001b[0mfixname\u001b[0m\u001b[0;34m(\u001b[0m\u001b[0mattr_list\u001b[0m\u001b[0;34m[\u001b[0m\u001b[0mi\u001b[0m\u001b[0;34m]\u001b[0m\u001b[0;34m)\u001b[0m\u001b[0;34m]\u001b[0m \u001b[0;34m=\u001b[0m \u001b[0mattr_list\u001b[0m\u001b[0;34m[\u001b[0m\u001b[0mi\u001b[0m\u001b[0;34m+\u001b[0m\u001b[0;36m1\u001b[0m\u001b[0;34m]\u001b[0m\u001b[0;34m\u001b[0m\u001b[0;34m\u001b[0m\u001b[0m\n\u001b[0;32m-> 1554\u001b[0;31m         \u001b[0;32mreturn\u001b[0m \u001b[0mself\u001b[0m\u001b[0;34m.\u001b[0m\u001b[0mtarget\u001b[0m\u001b[0;34m.\u001b[0m\u001b[0mstart\u001b[0m\u001b[0;34m(\u001b[0m\u001b[0mtag\u001b[0m\u001b[0;34m,\u001b[0m \u001b[0mattrib\u001b[0m\u001b[0;34m)\u001b[0m\u001b[0;34m\u001b[0m\u001b[0;34m\u001b[0m\u001b[0m\n\u001b[0m\u001b[1;32m   1555\u001b[0m \u001b[0;34m\u001b[0m\u001b[0m\n\u001b[1;32m   1556\u001b[0m     \u001b[0;32mdef\u001b[0m \u001b[0m_end\u001b[0m\u001b[0;34m(\u001b[0m\u001b[0mself\u001b[0m\u001b[0;34m,\u001b[0m \u001b[0mtag\u001b[0m\u001b[0;34m)\u001b[0m\u001b[0;34m:\u001b[0m\u001b[0;34m\u001b[0m\u001b[0;34m\u001b[0m\u001b[0m\n",
      "\u001b[0;31mKeyboardInterrupt\u001b[0m: "
     ]
    }
   ],
   "source": [
    "TEJ = pd.read_excel('Data/TEJ_20231126.xlsx')\n",
    "filter2 = re.compile(r'(.*?)[證]')\n",
    "TEJ['名稱'] = TEJ['名稱'].apply(lambda x: re.findall(filter2, x)[0] if x[-2:] == '證券' else x)\n",
    "TEJ['財報發布日'] = pd.to_datetime(TEJ['財報發布日']) "
   ]
  },
  {
   "cell_type": "code",
   "execution_count": null,
   "metadata": {},
   "outputs": [
    {
     "name": "stderr",
     "output_type": "stream",
     "text": [
      "/home/akilin/anaconda3/envs/gamma/lib/python3.7/site-packages/IPython/core/interactiveshell.py:3457: DtypeWarning: Columns (8,9,10,15,16) have mixed types.Specify dtype option on import or set low_memory=False.\n",
      "  exec(code_obj, self.user_global_ns, self.user_ns)\n"
     ]
    }
   ],
   "source": [
    "df = pd.read_csv('df_merge.csv')\n",
    "df['交易時段'] = df['交易時段'].fillna('一般')\n",
    "df = df[df['交易時段'] == '一般']\n",
    "df['財報發布日'] = df['財報發布日'].apply(lambda x: np.nan if x == 'None' else x)\n",
    "df['財報發布日'] = pd.to_datetime(df['財報發布日'])"
   ]
  },
  {
   "cell_type": "code",
   "execution_count": null,
   "metadata": {},
   "outputs": [],
   "source": [
    "data_code = pd.read_excel('Data/股名代碼.xlsx', header = 2)"
   ]
  },
  {
   "cell_type": "code",
   "execution_count": null,
   "metadata": {},
   "outputs": [],
   "source": [
    "data_code = data_code.T.reset_index(drop=True).T"
   ]
  },
  {
   "cell_type": "code",
   "execution_count": null,
   "metadata": {},
   "outputs": [],
   "source": [
    "tmp_1 = []\n",
    "tmp_2 = []\n",
    "tmp_3 = []\n",
    "for i in range(0, len(data_code.T)):\n",
    "    for j in range(0,len(data_code[i])):\n",
    "        if pd.isna(data_code[i][j]) == False:\n",
    "            if i%2 == 0:\n",
    "                tmp_1.append(data_code[i][j].split('\\xa0')[0])\n",
    "            else:\n",
    "                tmp_2.append(data_code[i][j].split('\\xa0')[0])\n",
    "\n",
    "df_code = pd.DataFrame()"
   ]
  },
  {
   "cell_type": "code",
   "execution_count": null,
   "metadata": {},
   "outputs": [],
   "source": [
    "df_code = pd.DataFrame()\n",
    "df_code['code'] = tmp_1\n",
    "df_code['name'] = tmp_2\n",
    "\n",
    "tmp_3 = []\n",
    "tmp_4 = []\n",
    "market = ''\n",
    "sector = '' \n",
    "for i in range(len(tmp_1)):\n",
    "    if tmp_1[i] == '上市' or tmp_1[i] == '上櫃':\n",
    "       market = tmp_1[i]\n",
    "       sector = tmp_2[i]\n",
    "    tmp_3.append(market)\n",
    "    tmp_4.append(sector)\n",
    "\n",
    "df_code['sector'] = tmp_4\n",
    "df_code['market'] = tmp_3\n",
    "df_code['name'] = df_code['name'].apply(lambda x: str(x.split(\"＊\")[0]) if len(x.split(\"＊\"))>0 else str(x))\n",
    "df_code['name'] = df_code['name'].apply(lambda x: str(x.split(\"＃\")[0]) if len(x.split(\"＃\"))>0 else str(x))"
   ]
  },
  {
   "cell_type": "code",
   "execution_count": null,
   "metadata": {},
   "outputs": [],
   "source": [
    "df_name = list(set(df['中文名稱']))\n",
    "name_dict = {}\n",
    "for name in df_name:\n",
    "    if name not in name_dict.keys():\n",
    "        name_dict[name] = []\n",
    "    if len(df_code['code'][(name == df_code['name'])]) > 0:\n",
    "        name_dict[name] = df_code['code'][(name == df_code['name'])].iloc[0]\n",
    "df['code'] = df['中文名稱'].apply(lambda x: name_dict[x])"
   ]
  },
  {
   "cell_type": "code",
   "execution_count": null,
   "metadata": {},
   "outputs": [],
   "source": [
    "DB = pd.merge(df,TEJ,left_on = ['中文名稱','財報發布日'], right_on = ['名稱','財報發布日'])"
   ]
  },
  {
   "cell_type": "code",
   "execution_count": null,
   "metadata": {},
   "outputs": [
    {
     "name": "stderr",
     "output_type": "stream",
     "text": [
      "Pandas Apply: 100%|██████████| 3534900/3534900 [00:27<00:00, 127269.47it/s]\n"
     ]
    }
   ],
   "source": [
    "DB['收盤價'] = DB.swifter.apply(lambda x: x['收盤價'] if x['收盤價'] != '-' else x['結算價'], axis = 1) # 若當日流動量不足,改用結算價替代\n",
    "DB['收盤價'] = DB['收盤價'].astype(float)"
   ]
  },
  {
   "cell_type": "code",
   "execution_count": null,
   "metadata": {},
   "outputs": [],
   "source": [
    "# 定义一个函数来计算百分比变化 # gpt 好棒\n",
    "def calculate_pct_change(group):\n",
    "    group['Return'] = group['收盤價'].pct_change()\n",
    "    return group\n",
    "\n",
    "# 使用 groupby 和 apply 来应用这个函数\n",
    "DB = DB.groupby(['契約', '到期月份(週別)']).apply(calculate_pct_change)"
   ]
  },
  {
   "cell_type": "code",
   "execution_count": null,
   "metadata": {},
   "outputs": [],
   "source": [
    "DB_tmp = DB[['契約', '到期月份(週別)', '交易日期', 'Return']]"
   ]
  },
  {
   "cell_type": "code",
   "execution_count": null,
   "metadata": {},
   "outputs": [
    {
     "name": "stderr",
     "output_type": "stream",
     "text": [
      "/home/akilin/anaconda3/envs/gamma/lib/python3.7/site-packages/ipykernel_launcher.py:1: SettingWithCopyWarning: \n",
      "A value is trying to be set on a copy of a slice from a DataFrame.\n",
      "Try using .loc[row_indexer,col_indexer] = value instead\n",
      "\n",
      "See the caveats in the documentation: https://pandas.pydata.org/pandas-docs/stable/user_guide/indexing.html#returning-a-view-versus-a-copy\n",
      "  \"\"\"Entry point for launching an IPython kernel.\n"
     ]
    }
   ],
   "source": [
    "DB_tmp['交易日期'] = pd.to_datetime(DB_tmp['交易日期'])\n",
    "\n",
    "# 使用 pivot_table 来重塑 DataFrame\n",
    "pivot_df = DB_tmp.pivot_table(index='交易日期', columns=['契約', '到期月份(週別)'], values='Return')\n"
   ]
  },
  {
   "cell_type": "code",
   "execution_count": null,
   "metadata": {},
   "outputs": [],
   "source": [
    "# pivot_df.to_pickle(\"pivot_df.pkl\")"
   ]
  },
  {
   "cell_type": "markdown",
   "metadata": {},
   "source": [
    "# 找產業別, 組成Sector (可能採按市值加權)"
   ]
  },
  {
   "cell_type": "code",
   "execution_count": 2,
   "metadata": {},
   "outputs": [],
   "source": [
    "tmp_df  = pd.read_pickle('pivot_df.pkl')"
   ]
  },
  {
   "cell_type": "code",
   "execution_count": 3,
   "metadata": {},
   "outputs": [],
   "source": [
    "codes_chinese = pd.read_excel('Data/codes_sector.xlsx', header = 1)"
   ]
  },
  {
   "cell_type": "code",
   "execution_count": 4,
   "metadata": {},
   "outputs": [],
   "source": [
    "codes_chinese['選擇權'] = codes_chinese['中文簡稱'].apply( lambda x : 0 if ('W' in x or '選' in x) else 1)\n",
    "codes_chinese = codes_chinese[codes_chinese['選擇權'] == 1]\n",
    "del codes_chinese['選擇權']\n",
    "codes_chinese = codes_chinese.reset_index()\n",
    "codes_chinese = codes_chinese[['英文代碼','中文簡稱']]\n",
    "index = codes_chinese[codes_chinese['中文簡稱'] == '小型臺指']['中文簡稱'].index[0]\n",
    "codes_chinese.loc[index, '中文簡稱'] = '小型臺指期貨'"
   ]
  },
  {
   "cell_type": "code",
   "execution_count": 5,
   "metadata": {},
   "outputs": [],
   "source": [
    "sectors = pd.read_excel('Data/TEJ_產業別.xlsx')\n",
    "sectors['產業類別'] = sectors['TSE新產業_名稱'].fillna(sectors['TEJ產業_名稱'])\n",
    "filter2 = re.compile(r'(.*?)[證]')\n",
    "sectors['名稱_'] = sectors['名稱'].apply(lambda x: re.findall(filter2, x)[0] if x[-2:] == '證券' else x)"
   ]
  },
  {
   "cell_type": "code",
   "execution_count": 6,
   "metadata": {},
   "outputs": [],
   "source": [
    "filter3 = re.compile(r'(.*?)[期]')\n",
    "codes_chinese['中文簡稱'] = codes_chinese['中文簡稱'].apply(lambda x: re.findall(filter3, x)[0])"
   ]
  },
  {
   "cell_type": "code",
   "execution_count": 7,
   "metadata": {},
   "outputs": [
    {
     "name": "stderr",
     "output_type": "stream",
     "text": [
      "/home/akilin/anaconda3/envs/gamma/lib/python3.7/site-packages/ipykernel_launcher.py:7: SettingWithCopyWarning: \n",
      "A value is trying to be set on a copy of a slice from a DataFrame\n",
      "\n",
      "See the caveats in the documentation: https://pandas.pydata.org/pandas-docs/stable/user_guide/indexing.html#returning-a-view-versus-a-copy\n",
      "  import sys\n",
      "/home/akilin/anaconda3/envs/gamma/lib/python3.7/site-packages/pandas/core/indexing.py:1732: SettingWithCopyWarning: \n",
      "A value is trying to be set on a copy of a slice from a DataFrame\n",
      "\n",
      "See the caveats in the documentation: https://pandas.pydata.org/pandas-docs/stable/user_guide/indexing.html#returning-a-view-versus-a-copy\n",
      "  self._setitem_single_block(indexer, value, name)\n"
     ]
    }
   ],
   "source": [
    "codes_chinese['產業'] = 0\n",
    "for i in range(len(codes_chinese['中文簡稱'])):\n",
    "    tmp = codes_chinese['中文簡稱'][i]\n",
    "    for j in range(len(sectors['產業類別'])):\n",
    "        sector = sectors['產業類別'][j]\n",
    "        if tmp in sectors['名稱_'][j]:\n",
    "            codes_chinese['產業'][i] = sector\n",
    "            break"
   ]
  },
  {
   "cell_type": "markdown",
   "metadata": {},
   "source": [
    "# 按照Sector分類，將同樣Sector之股票期貨return 組為一組return"
   ]
  },
  {
   "cell_type": "code",
   "execution_count": 8,
   "metadata": {},
   "outputs": [],
   "source": [
    "tmps = list(tmp_df.T.index)\n",
    "new_index = []\n",
    "for tmp in tmps:\n",
    "    name = tmp[0]\n",
    "    new = list(tmp)\n",
    "    industry = codes_chinese[codes_chinese['英文代碼'] == name]['產業'].values[0]\n",
    "    new.append(industry)\n",
    "    new_index.append(tuple(new))\n",
    "    \n",
    "new_df = tmp_df.T\n",
    "new_df.index = pd.MultiIndex.from_tuples(new_index, names=['契約', '到期月份(週別)', '產業別'])\n",
    "new_df = new_df.T"
   ]
  },
  {
   "cell_type": "code",
   "execution_count": 9,
   "metadata": {},
   "outputs": [],
   "source": [
    "all_future = list(set(new_df.keys().get_level_values('契約')))\n",
    "futures = []\n",
    "for future in all_future:\n",
    "    if future[2] == 'F':\n",
    "        futures.append(future)\n",
    "new_df = new_df[futures]\n",
    "all_future = list(set(new_df.keys().get_level_values('契約')))\n",
    "all_term = list(set(new_df.keys().get_level_values('到期月份(週別)')))\n",
    "all_sector = list(set(new_df.keys().get_level_values('產業別')))"
   ]
  },
  {
   "cell_type": "code",
   "execution_count": 104,
   "metadata": {},
   "outputs": [
    {
     "name": "stderr",
     "output_type": "stream",
     "text": [
      "  0%|          | 0/33 [00:00<?, ?it/s]/home/akilin/anaconda3/envs/gamma/lib/python3.7/site-packages/ipykernel_launcher.py:8: SettingWithCopyWarning: \n",
      "A value is trying to be set on a copy of a slice from a DataFrame.\n",
      "Try using .loc[row_indexer,col_indexer] = value instead\n",
      "\n",
      "See the caveats in the documentation: https://pandas.pydata.org/pandas-docs/stable/user_guide/indexing.html#returning-a-view-versus-a-copy\n",
      "  \n",
      "/home/akilin/anaconda3/envs/gamma/lib/python3.7/site-packages/ipykernel_launcher.py:9: SettingWithCopyWarning: \n",
      "A value is trying to be set on a copy of a slice from a DataFrame.\n",
      "Try using .loc[row_indexer,col_indexer] = value instead\n",
      "\n",
      "See the caveats in the documentation: https://pandas.pydata.org/pandas-docs/stable/user_guide/indexing.html#returning-a-view-versus-a-copy\n",
      "  if __name__ == \"__main__\":\n",
      "100%|██████████| 33/33 [00:11<00:00,  2.97it/s]\n"
     ]
    }
   ],
   "source": [
    "DB = pd.DataFrame()\n",
    "DB.index = new_df.index\n",
    "for sector in tqdm(all_sector):\n",
    "    db = pd.DataFrame()\n",
    "    db.index = new_df.index\n",
    "    for term in all_term:\n",
    "        test_df = new_df.xs((term,sector), level = ('到期月份(週別)','產業別'), axis = 1)\n",
    "        test_df[sector] = test_df.sum(axis = 1)\n",
    "        test_df['到期月份(週別)'] = term\n",
    "        test_df = test_df[test_df[sector] != 0]\n",
    "        db = pd.concat([db,test_df])\n",
    "    if sector == all_sector[0]:\n",
    "        DB = DB.merge(db[[sector, '到期月份(週別)']], left_on = ['交易日期'], right_on = ['交易日期'])\n",
    "    else:\n",
    "        DB = DB.merge(db[[sector, '到期月份(週別)']], left_on = ['交易日期', '到期月份(週別)'], right_on = ['交易日期', '到期月份(週別)'], how = 'outer')\n",
    "    # DB[sector] = db[sector].values"
   ]
  },
  {
   "cell_type": "code",
   "execution_count": 279,
   "metadata": {},
   "outputs": [],
   "source": [
    "# 暫時先用直接相加取代\n",
    "DB_new = DB.groupby('交易日期').sum()\n",
    "T = 252\n",
    "\n",
    "#輸入有多少成分我們想要留住分解\n",
    "N = 2\n",
    "pca = PCA(n_components = 2)"
   ]
  },
  {
   "cell_type": "code",
   "execution_count": 280,
   "metadata": {},
   "outputs": [
    {
     "name": "stderr",
     "output_type": "stream",
     "text": [
      "/home/akilin/anaconda3/envs/gamma/lib/python3.7/site-packages/pandas/core/internals/construction.py:540: VisibleDeprecationWarning: Creating an ndarray from ragged nested sequences (which is a list-or-tuple of lists-or-tuples-or ndarrays with different lengths or shapes) is deprecated. If you meant to do this, you must specify 'dtype=object' when creating the ndarray.\n",
      "  values = np.array([convert(v) for v in values])\n"
     ]
    }
   ],
   "source": [
    "DB_new = DB_new[['生技醫療','汽車工業', '貿易百貨', '半導體', '橡膠工業', '運動休閒', '建材營造',\n",
    "       '通信網路業', '電子零組件', '紡織纖維', '其他', '航運業', '食品工業', '水泥工業', '塑膠工業', '玻璃陶瓷',\n",
    "       '文化創意業', '化學工業', '造紙工業', '金融業', '綠能環保', '電腦及週邊', '電機機械', '觀光餐旅', '居家生活',\n",
    "       '光電業', '鋼鐵工業', '其他電子業', '罐頭加工', '數位雲端', '電器電纜', '資訊服務業', '電子通路業']]\n",
    "half_life = list((1/2)**(np.arange(T,0,-1)/T))\n",
    "DF = pd.DataFrame(DB_new.rolling(T))"
   ]
  },
  {
   "cell_type": "code",
   "execution_count": 297,
   "metadata": {},
   "outputs": [
    {
     "name": "stderr",
     "output_type": "stream",
     "text": [
      "100%|██████████| 2696/2696 [00:05<00:00, 507.26it/s]\n"
     ]
    }
   ],
   "source": [
    "dates = []\n",
    "centralities = {}\n",
    "for i in tqdm(range(T, len(DF))):\n",
    "# for i in range(T, T+5):\n",
    "    df = DF.iloc[i,0].mul(half_life, axis = 0)\n",
    "    date = df.index[-1]\n",
    "    \n",
    "    #將資料分成兩個主成份\n",
    "    X = df.cov()\n",
    "    pca.fit(X)\n",
    "    x_pca = pca.transform(X)\n",
    "\n",
    "    # 主成份的解釋力\n",
    "    absorption_ratios = pca.explained_variance_ratio_\n",
    "\n",
    "    # 各產業集中度\n",
    "    # centralities = {'產業集中度':[]}\n",
    "    centralities[date] = []\n",
    "    for i in range(len(x_pca)):\n",
    "        eigien_ratio = 0\n",
    "        for j in range(0,N):\n",
    "            eigien_ratio += (np.abs(x_pca[i,j])/ np.abs(x_pca.T[j]).sum())*absorption_ratios[j]\n",
    "        centrality = eigien_ratio/absorption_ratios.sum()\n",
    "        centralities[date].append(centrality)\n",
    "centralities = pd.DataFrame(centralities)\n",
    "centralities.index = df.keys()\n",
    "centralities = centralities.T"
   ]
  },
  {
   "cell_type": "code",
   "execution_count": 327,
   "metadata": {},
   "outputs": [
    {
     "data": {
      "text/html": [
       "<div>\n",
       "<style scoped>\n",
       "    .dataframe tbody tr th:only-of-type {\n",
       "        vertical-align: middle;\n",
       "    }\n",
       "\n",
       "    .dataframe tbody tr th {\n",
       "        vertical-align: top;\n",
       "    }\n",
       "\n",
       "    .dataframe thead th {\n",
       "        text-align: right;\n",
       "    }\n",
       "</style>\n",
       "<table border=\"1\" class=\"dataframe\">\n",
       "  <thead>\n",
       "    <tr style=\"text-align: right;\">\n",
       "      <th></th>\n",
       "      <th>生技醫療</th>\n",
       "      <th>汽車工業</th>\n",
       "      <th>貿易百貨</th>\n",
       "      <th>半導體</th>\n",
       "      <th>橡膠工業</th>\n",
       "      <th>運動休閒</th>\n",
       "      <th>建材營造</th>\n",
       "      <th>通信網路業</th>\n",
       "      <th>電子零組件</th>\n",
       "      <th>紡織纖維</th>\n",
       "      <th>...</th>\n",
       "      <th>觀光餐旅</th>\n",
       "      <th>居家生活</th>\n",
       "      <th>光電業</th>\n",
       "      <th>鋼鐵工業</th>\n",
       "      <th>其他電子業</th>\n",
       "      <th>罐頭加工</th>\n",
       "      <th>數位雲端</th>\n",
       "      <th>電器電纜</th>\n",
       "      <th>資訊服務業</th>\n",
       "      <th>電子通路業</th>\n",
       "    </tr>\n",
       "  </thead>\n",
       "  <tbody>\n",
       "    <tr>\n",
       "      <th>2012-01-10</th>\n",
       "      <td>0.033205</td>\n",
       "      <td>0.026092</td>\n",
       "      <td>0.005141</td>\n",
       "      <td>0.092306</td>\n",
       "      <td>0.009009</td>\n",
       "      <td>0.024589</td>\n",
       "      <td>0.043171</td>\n",
       "      <td>0.028606</td>\n",
       "      <td>0.078945</td>\n",
       "      <td>0.002494</td>\n",
       "      <td>...</td>\n",
       "      <td>0.008544</td>\n",
       "      <td>0.032306</td>\n",
       "      <td>0.109904</td>\n",
       "      <td>0.010115</td>\n",
       "      <td>0.002282</td>\n",
       "      <td>0.030194</td>\n",
       "      <td>0.036650</td>\n",
       "      <td>0.027180</td>\n",
       "      <td>0.030446</td>\n",
       "      <td>0.001776</td>\n",
       "    </tr>\n",
       "    <tr>\n",
       "      <th>2012-01-11</th>\n",
       "      <td>0.033191</td>\n",
       "      <td>0.026086</td>\n",
       "      <td>0.005173</td>\n",
       "      <td>0.092418</td>\n",
       "      <td>0.009014</td>\n",
       "      <td>0.024578</td>\n",
       "      <td>0.043194</td>\n",
       "      <td>0.028559</td>\n",
       "      <td>0.079014</td>\n",
       "      <td>0.002495</td>\n",
       "      <td>...</td>\n",
       "      <td>0.008531</td>\n",
       "      <td>0.032305</td>\n",
       "      <td>0.109944</td>\n",
       "      <td>0.010124</td>\n",
       "      <td>0.002288</td>\n",
       "      <td>0.030207</td>\n",
       "      <td>0.036644</td>\n",
       "      <td>0.027177</td>\n",
       "      <td>0.030445</td>\n",
       "      <td>0.001815</td>\n",
       "    </tr>\n",
       "    <tr>\n",
       "      <th>2012-01-12</th>\n",
       "      <td>0.033190</td>\n",
       "      <td>0.026085</td>\n",
       "      <td>0.005165</td>\n",
       "      <td>0.092410</td>\n",
       "      <td>0.009014</td>\n",
       "      <td>0.024578</td>\n",
       "      <td>0.043200</td>\n",
       "      <td>0.028565</td>\n",
       "      <td>0.079023</td>\n",
       "      <td>0.002494</td>\n",
       "      <td>...</td>\n",
       "      <td>0.008532</td>\n",
       "      <td>0.032306</td>\n",
       "      <td>0.109945</td>\n",
       "      <td>0.010129</td>\n",
       "      <td>0.002286</td>\n",
       "      <td>0.030206</td>\n",
       "      <td>0.036644</td>\n",
       "      <td>0.027176</td>\n",
       "      <td>0.030445</td>\n",
       "      <td>0.001816</td>\n",
       "    </tr>\n",
       "    <tr>\n",
       "      <th>2012-01-13</th>\n",
       "      <td>0.033183</td>\n",
       "      <td>0.026077</td>\n",
       "      <td>0.005154</td>\n",
       "      <td>0.092437</td>\n",
       "      <td>0.009020</td>\n",
       "      <td>0.024580</td>\n",
       "      <td>0.043188</td>\n",
       "      <td>0.028563</td>\n",
       "      <td>0.079023</td>\n",
       "      <td>0.002497</td>\n",
       "      <td>...</td>\n",
       "      <td>0.008563</td>\n",
       "      <td>0.032302</td>\n",
       "      <td>0.109938</td>\n",
       "      <td>0.010136</td>\n",
       "      <td>0.002303</td>\n",
       "      <td>0.030204</td>\n",
       "      <td>0.036638</td>\n",
       "      <td>0.027159</td>\n",
       "      <td>0.030450</td>\n",
       "      <td>0.001824</td>\n",
       "    </tr>\n",
       "    <tr>\n",
       "      <th>2012-01-16</th>\n",
       "      <td>0.033182</td>\n",
       "      <td>0.026079</td>\n",
       "      <td>0.005134</td>\n",
       "      <td>0.092412</td>\n",
       "      <td>0.009025</td>\n",
       "      <td>0.024581</td>\n",
       "      <td>0.043251</td>\n",
       "      <td>0.028608</td>\n",
       "      <td>0.079063</td>\n",
       "      <td>0.002492</td>\n",
       "      <td>...</td>\n",
       "      <td>0.008557</td>\n",
       "      <td>0.032296</td>\n",
       "      <td>0.109934</td>\n",
       "      <td>0.010148</td>\n",
       "      <td>0.002314</td>\n",
       "      <td>0.030205</td>\n",
       "      <td>0.036638</td>\n",
       "      <td>0.027161</td>\n",
       "      <td>0.030447</td>\n",
       "      <td>0.001831</td>\n",
       "    </tr>\n",
       "    <tr>\n",
       "      <th>...</th>\n",
       "      <td>...</td>\n",
       "      <td>...</td>\n",
       "      <td>...</td>\n",
       "      <td>...</td>\n",
       "      <td>...</td>\n",
       "      <td>...</td>\n",
       "      <td>...</td>\n",
       "      <td>...</td>\n",
       "      <td>...</td>\n",
       "      <td>...</td>\n",
       "      <td>...</td>\n",
       "      <td>...</td>\n",
       "      <td>...</td>\n",
       "      <td>...</td>\n",
       "      <td>...</td>\n",
       "      <td>...</td>\n",
       "      <td>...</td>\n",
       "      <td>...</td>\n",
       "      <td>...</td>\n",
       "      <td>...</td>\n",
       "      <td>...</td>\n",
       "    </tr>\n",
       "    <tr>\n",
       "      <th>2022-12-26</th>\n",
       "      <td>0.003078</td>\n",
       "      <td>0.011047</td>\n",
       "      <td>0.023648</td>\n",
       "      <td>0.239263</td>\n",
       "      <td>0.025849</td>\n",
       "      <td>0.014432</td>\n",
       "      <td>0.018529</td>\n",
       "      <td>0.031461</td>\n",
       "      <td>0.124674</td>\n",
       "      <td>0.014657</td>\n",
       "      <td>...</td>\n",
       "      <td>0.020897</td>\n",
       "      <td>0.028647</td>\n",
       "      <td>0.062017</td>\n",
       "      <td>0.004909</td>\n",
       "      <td>0.003408</td>\n",
       "      <td>0.028647</td>\n",
       "      <td>0.022936</td>\n",
       "      <td>0.023465</td>\n",
       "      <td>0.027640</td>\n",
       "      <td>0.021723</td>\n",
       "    </tr>\n",
       "    <tr>\n",
       "      <th>2022-12-27</th>\n",
       "      <td>0.003193</td>\n",
       "      <td>0.011058</td>\n",
       "      <td>0.023636</td>\n",
       "      <td>0.239347</td>\n",
       "      <td>0.025834</td>\n",
       "      <td>0.014417</td>\n",
       "      <td>0.018474</td>\n",
       "      <td>0.031466</td>\n",
       "      <td>0.124659</td>\n",
       "      <td>0.014663</td>\n",
       "      <td>...</td>\n",
       "      <td>0.020935</td>\n",
       "      <td>0.028641</td>\n",
       "      <td>0.061963</td>\n",
       "      <td>0.004978</td>\n",
       "      <td>0.003430</td>\n",
       "      <td>0.028641</td>\n",
       "      <td>0.022977</td>\n",
       "      <td>0.023425</td>\n",
       "      <td>0.027631</td>\n",
       "      <td>0.021750</td>\n",
       "    </tr>\n",
       "    <tr>\n",
       "      <th>2022-12-28</th>\n",
       "      <td>0.003148</td>\n",
       "      <td>0.011135</td>\n",
       "      <td>0.023545</td>\n",
       "      <td>0.239484</td>\n",
       "      <td>0.025828</td>\n",
       "      <td>0.014335</td>\n",
       "      <td>0.018522</td>\n",
       "      <td>0.031727</td>\n",
       "      <td>0.124414</td>\n",
       "      <td>0.014697</td>\n",
       "      <td>...</td>\n",
       "      <td>0.020635</td>\n",
       "      <td>0.028592</td>\n",
       "      <td>0.062179</td>\n",
       "      <td>0.005096</td>\n",
       "      <td>0.003394</td>\n",
       "      <td>0.028592</td>\n",
       "      <td>0.022974</td>\n",
       "      <td>0.023443</td>\n",
       "      <td>0.027606</td>\n",
       "      <td>0.021717</td>\n",
       "    </tr>\n",
       "    <tr>\n",
       "      <th>2022-12-29</th>\n",
       "      <td>0.003120</td>\n",
       "      <td>0.011166</td>\n",
       "      <td>0.023585</td>\n",
       "      <td>0.239449</td>\n",
       "      <td>0.025823</td>\n",
       "      <td>0.014326</td>\n",
       "      <td>0.018501</td>\n",
       "      <td>0.031786</td>\n",
       "      <td>0.124401</td>\n",
       "      <td>0.014727</td>\n",
       "      <td>...</td>\n",
       "      <td>0.020627</td>\n",
       "      <td>0.028584</td>\n",
       "      <td>0.062179</td>\n",
       "      <td>0.005089</td>\n",
       "      <td>0.003400</td>\n",
       "      <td>0.028584</td>\n",
       "      <td>0.022951</td>\n",
       "      <td>0.023439</td>\n",
       "      <td>0.027602</td>\n",
       "      <td>0.021711</td>\n",
       "    </tr>\n",
       "    <tr>\n",
       "      <th>2022-12-30</th>\n",
       "      <td>0.003110</td>\n",
       "      <td>0.011154</td>\n",
       "      <td>0.023584</td>\n",
       "      <td>0.239435</td>\n",
       "      <td>0.025829</td>\n",
       "      <td>0.014332</td>\n",
       "      <td>0.018501</td>\n",
       "      <td>0.031808</td>\n",
       "      <td>0.124368</td>\n",
       "      <td>0.014720</td>\n",
       "      <td>...</td>\n",
       "      <td>0.020628</td>\n",
       "      <td>0.028589</td>\n",
       "      <td>0.062174</td>\n",
       "      <td>0.005053</td>\n",
       "      <td>0.003388</td>\n",
       "      <td>0.028589</td>\n",
       "      <td>0.022954</td>\n",
       "      <td>0.023440</td>\n",
       "      <td>0.027609</td>\n",
       "      <td>0.021720</td>\n",
       "    </tr>\n",
       "  </tbody>\n",
       "</table>\n",
       "<p>2696 rows × 33 columns</p>\n",
       "</div>"
      ],
      "text/plain": [
       "                生技醫療      汽車工業      貿易百貨       半導體      橡膠工業      運動休閒  \\\n",
       "2012-01-10  0.033205  0.026092  0.005141  0.092306  0.009009  0.024589   \n",
       "2012-01-11  0.033191  0.026086  0.005173  0.092418  0.009014  0.024578   \n",
       "2012-01-12  0.033190  0.026085  0.005165  0.092410  0.009014  0.024578   \n",
       "2012-01-13  0.033183  0.026077  0.005154  0.092437  0.009020  0.024580   \n",
       "2012-01-16  0.033182  0.026079  0.005134  0.092412  0.009025  0.024581   \n",
       "...              ...       ...       ...       ...       ...       ...   \n",
       "2022-12-26  0.003078  0.011047  0.023648  0.239263  0.025849  0.014432   \n",
       "2022-12-27  0.003193  0.011058  0.023636  0.239347  0.025834  0.014417   \n",
       "2022-12-28  0.003148  0.011135  0.023545  0.239484  0.025828  0.014335   \n",
       "2022-12-29  0.003120  0.011166  0.023585  0.239449  0.025823  0.014326   \n",
       "2022-12-30  0.003110  0.011154  0.023584  0.239435  0.025829  0.014332   \n",
       "\n",
       "                建材營造     通信網路業     電子零組件      紡織纖維  ...      觀光餐旅      居家生活  \\\n",
       "2012-01-10  0.043171  0.028606  0.078945  0.002494  ...  0.008544  0.032306   \n",
       "2012-01-11  0.043194  0.028559  0.079014  0.002495  ...  0.008531  0.032305   \n",
       "2012-01-12  0.043200  0.028565  0.079023  0.002494  ...  0.008532  0.032306   \n",
       "2012-01-13  0.043188  0.028563  0.079023  0.002497  ...  0.008563  0.032302   \n",
       "2012-01-16  0.043251  0.028608  0.079063  0.002492  ...  0.008557  0.032296   \n",
       "...              ...       ...       ...       ...  ...       ...       ...   \n",
       "2022-12-26  0.018529  0.031461  0.124674  0.014657  ...  0.020897  0.028647   \n",
       "2022-12-27  0.018474  0.031466  0.124659  0.014663  ...  0.020935  0.028641   \n",
       "2022-12-28  0.018522  0.031727  0.124414  0.014697  ...  0.020635  0.028592   \n",
       "2022-12-29  0.018501  0.031786  0.124401  0.014727  ...  0.020627  0.028584   \n",
       "2022-12-30  0.018501  0.031808  0.124368  0.014720  ...  0.020628  0.028589   \n",
       "\n",
       "                 光電業      鋼鐵工業     其他電子業      罐頭加工      數位雲端      電器電纜  \\\n",
       "2012-01-10  0.109904  0.010115  0.002282  0.030194  0.036650  0.027180   \n",
       "2012-01-11  0.109944  0.010124  0.002288  0.030207  0.036644  0.027177   \n",
       "2012-01-12  0.109945  0.010129  0.002286  0.030206  0.036644  0.027176   \n",
       "2012-01-13  0.109938  0.010136  0.002303  0.030204  0.036638  0.027159   \n",
       "2012-01-16  0.109934  0.010148  0.002314  0.030205  0.036638  0.027161   \n",
       "...              ...       ...       ...       ...       ...       ...   \n",
       "2022-12-26  0.062017  0.004909  0.003408  0.028647  0.022936  0.023465   \n",
       "2022-12-27  0.061963  0.004978  0.003430  0.028641  0.022977  0.023425   \n",
       "2022-12-28  0.062179  0.005096  0.003394  0.028592  0.022974  0.023443   \n",
       "2022-12-29  0.062179  0.005089  0.003400  0.028584  0.022951  0.023439   \n",
       "2022-12-30  0.062174  0.005053  0.003388  0.028589  0.022954  0.023440   \n",
       "\n",
       "               資訊服務業     電子通路業  \n",
       "2012-01-10  0.030446  0.001776  \n",
       "2012-01-11  0.030445  0.001815  \n",
       "2012-01-12  0.030445  0.001816  \n",
       "2012-01-13  0.030450  0.001824  \n",
       "2012-01-16  0.030447  0.001831  \n",
       "...              ...       ...  \n",
       "2022-12-26  0.027640  0.021723  \n",
       "2022-12-27  0.027631  0.021750  \n",
       "2022-12-28  0.027606  0.021717  \n",
       "2022-12-29  0.027602  0.021711  \n",
       "2022-12-30  0.027609  0.021720  \n",
       "\n",
       "[2696 rows x 33 columns]"
      ]
     },
     "execution_count": 327,
     "metadata": {},
     "output_type": "execute_result"
    }
   ],
   "source": [
    "centralities"
   ]
  },
  {
   "cell_type": "code",
   "execution_count": 339,
   "metadata": {},
   "outputs": [],
   "source": [
    "cmap = colors.LinearSegmentedColormap.from_list(\"brw\", [\"white\", \"blue\", \"red\"], N = 33)"
   ]
  },
  {
   "cell_type": "code",
   "execution_count": 350,
   "metadata": {},
   "outputs": [
    {
     "data": {
      "image/png": "[encoded data removed]",
      "text/plain": [
       "<Figure size 1600x900 with 2 Axes>"
      ]
     },
     "metadata": {},
     "output_type": "display_data"
    }
   ],
   "source": [
    "rank_centralities = centralities.rank(axis = 1, ascending = False).T\n",
    "plt.figure(figsize = (16,9))\n",
    "sns.heatmap(rank_centralities, annot = False, cmap='coolwarm_r')\n",
    "plt.title('Rank Heatmap')\n",
    "plt.show()"
   ]
  }
 ],
 "metadata": {
  "kernelspec": {
   "display_name": "Python 3",
   "language": "python",
   "name": "python3"
  },
  "language_info": {
   "codemirror_mode": {
    "name": "ipython",
    "version": 3
   },
   "file_extension": ".py",
   "mimetype": "text/x-python",
   "name": "python",
   "nbconvert_exporter": "python",
   "pygments_lexer": "ipython3",
   "version": "3.7.15"
  },
  "orig_nbformat": 4
 },
 "nbformat": 4,
 "nbformat_minor": 2
}
